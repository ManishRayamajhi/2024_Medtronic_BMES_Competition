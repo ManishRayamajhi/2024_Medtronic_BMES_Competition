{
 "cells": [
  {
   "cell_type": "markdown",
   "id": "9efd713c",
   "metadata": {},
   "source": [
    "# Train the model using Decision Tree algorithm"
   ]
  },
  {
   "cell_type": "code",
   "execution_count": 5,
   "id": "71831671",
   "metadata": {},
   "outputs": [
    {
     "data": {
      "image/png": "[encoded data removed]",
      "text/plain": [
       "<Figure size 640x480 with 2 Axes>"
      ]
     },
     "metadata": {},
     "output_type": "display_data"
    },
    {
     "name": "stdout",
     "output_type": "stream",
     "text": [
      "Validation Set Accuracy: 0.5777777777777777\n"
     ]
    },
    {
     "data": {
      "text/plain": [
       "['../models/decision_tree.joblib']"
      ]
     },
     "execution_count": 5,
     "metadata": {},
     "output_type": "execute_result"
    }
   ],
   "source": [
    "import pandas as pd\n",
    "from sklearn.model_selection import train_test_split\n",
    "from sklearn.tree import DecisionTreeClassifier\n",
    "from sklearn.metrics import accuracy_score, confusion_matrix, ConfusionMatrixDisplay\n",
    "import matplotlib.pyplot as plt\n",
    "import joblib\n",
    "\n",
    "# Load the training dataset\n",
    "train_file_path = '../data/training_dataset.csv'\n",
    "data = pd.read_csv(train_file_path)\n",
    "\n",
    "# Separate features and target\n",
    "X = data[['roiX', 'roiY', 'roiZ']]\n",
    "y = data['aclDiagnosis']\n",
    "\n",
    "# Split the data into training and validation sets (80% training, 20% validation)\n",
    "X_train, X_val, y_train, y_val = train_test_split(X, y, test_size=0.2, random_state=42)\n",
    "\n",
    "# Train a Decision Tree model\n",
    "clf = DecisionTreeClassifier(random_state=42)\n",
    "clf.fit(X_train, y_train)\n",
    "\n",
    "# Make predictions on the validation set\n",
    "y_val_pred = clf.predict(X_val)\n",
    "\n",
    "# Calculate accuracy on validation set\n",
    "val_accuracy = accuracy_score(y_val, y_val_pred)\n",
    "\n",
    "# Generate confusion matrix for validation set\n",
    "val_conf_matrix = confusion_matrix(y_val, y_val_pred)\n",
    "\n",
    "# Plot the confusion matrix for validation set\n",
    "val_disp = ConfusionMatrixDisplay(confusion_matrix=val_conf_matrix, display_labels=clf.classes_)\n",
    "val_disp.plot(cmap=plt.cm.Blues)\n",
    "plt.title(\"Confusion Matrix for Validation Set\")\n",
    "plt.show()\n",
    "\n",
    "print(\"Validation Set Accuracy:\", val_accuracy)\n",
    "\n",
    "# Save the trained model\n",
    "model_file_path = '../models/decision_tree.joblib'\n",
    "joblib.dump(clf, model_file_path)\n"
   ]
  },
  {
   "cell_type": "markdown",
   "id": "f60a8856",
   "metadata": {},
   "source": [
    "# Use the model to predict on test dataset"
   ]
  },
  {
   "cell_type": "code",
   "execution_count": 9,
   "id": "ed283cd3",
   "metadata": {},
   "outputs": [
    {
     "name": "stdout",
     "output_type": "stream",
     "text": [
      "Enter the path to the input file (CSV or Excel): ../data/carla_dataset.xlsx\n",
      "The input file does not contain the true labels for evaluation.\n",
      "\n",
      "Predictions and Input Data:\n",
      "+--------+--------+--------+-------------------+\n",
      "| Axis X | Axis Z | Axis Y | aclDiagnosis_pred |\n",
      "+--------+--------+--------+-------------------+\n",
      "|  189   |   38   |  125   |         1         |\n",
      "|  128   |   15   |  131   |         2         |\n",
      "|  160   |   28   |  100   |         1         |\n",
      "|  160   |   26   |   99   |         1         |\n",
      "|  168   |   27   |  109   |         1         |\n",
      "|  199   |   42   |  121   |         1         |\n",
      "|  195   |   39   |  103   |         1         |\n",
      "|  161   |   30   |  101   |         1         |\n",
      "|  153   |   26   |  101   |         1         |\n",
      "|  130   |   21   |  129   |         1         |\n",
      "|  223   |   49   |  133   |         1         |\n",
      "|  189   |   34   |  120   |         1         |\n",
      "|  173   |   32   |   96   |         1         |\n",
      "|  162   |   30   |   99   |         1         |\n",
      "|  163   |   29   |  102   |         1         |\n",
      "|  166   |   30   |  101   |         1         |\n",
      "|  167   |   31   |  100   |         1         |\n",
      "|  167   |   31   |  100   |         1         |\n",
      "|  168   |   31   |   99   |         1         |\n",
      "|  167   |   31   |   98   |         1         |\n",
      "|  168   |   31   |   99   |         1         |\n",
      "|  167   |   31   |   99   |         1         |\n",
      "|  167   |   30   |  100   |         1         |\n",
      "|  166   |   30   |   99   |         1         |\n",
      "|  166   |   31   |   99   |         1         |\n",
      "|  167   |   30   |  100   |         1         |\n",
      "+--------+--------+--------+-------------------+\n",
      "Predictions saved to ../results/predicted_results_decision_tree.csv\n"
     ]
    }
   ],
   "source": [
    "import pandas as pd\n",
    "import joblib\n",
    "from sklearn.metrics import classification_report, accuracy_score\n",
    "from tabulate import tabulate\n",
    "\n",
    "# Load the trained model\n",
    "model_path = '../models/decision_tree.joblib'\n",
    "clf = joblib.load(model_path)\n",
    "\n",
    "# Function to input file and make predictions\n",
    "def test_model_from_file():\n",
    "    # Get input file path\n",
    "    input_file_path = input(\"Enter the path to the input file (CSV or Excel): \")\n",
    "    \n",
    "    # Determine the file type and load the data\n",
    "    if input_file_path.endswith('.csv'):\n",
    "        data = pd.read_csv(input_file_path)\n",
    "    elif input_file_path.endswith('.xlsx') or input_file_path.endswith('.xls'):\n",
    "        data = pd.read_excel(input_file_path)\n",
    "    else:\n",
    "        print(\"Unsupported file format. Please provide a CSV or Excel file.\")\n",
    "        return\n",
    "\n",
    "    # Extract features based on position\n",
    "    if data.shape[1] >= 3:\n",
    "        # Extract the first three columns for features\n",
    "        X_test = data.iloc[:, :3]\n",
    "        X_test.columns = ['roiX', 'roiY', 'roiZ']  # Rename columns for consistency\n",
    "    else:\n",
    "        print(\"The input file does not have enough columns.\")\n",
    "        return\n",
    "    \n",
    "    # Make predictions\n",
    "    y_test_pred = clf.predict(X_test)\n",
    "    \n",
    "    # If 'aclDiagnosis' column exists, evaluate performance\n",
    "    if 'aclDiagnosis' in data.columns:\n",
    "        y_test_true = data['aclDiagnosis']\n",
    "        accuracy = accuracy_score(y_test_true, y_test_pred)\n",
    "        report = classification_report(y_test_true, y_test_pred, target_names=clf.classes_)\n",
    "        print(f\"Accuracy on test set: {accuracy}\")\n",
    "        print(\"Classification Report:\")\n",
    "        print(report)\n",
    "    else:\n",
    "        print(\"The input file does not contain the true labels for evaluation.\")\n",
    "    \n",
    "    # Add predictions to the DataFrame\n",
    "    data['aclDiagnosis_pred'] = y_test_pred\n",
    "    \n",
    "    # Display the results in tabular format\n",
    "    print(\"\\nPredictions and Input Data:\")\n",
    "    print(tabulate(data, headers='keys', tablefmt='pretty', showindex=False))\n",
    "\n",
    "    # Save the DataFrame with predictions\n",
    "    output_file_path = '../results/predicted_results_decision_tree.csv'\n",
    "    data.to_csv(output_file_path, index=False)\n",
    "    print(f\"Predictions saved to {output_file_path}\")\n",
    "\n",
    "# Test the model from file\n",
    "test_model_from_file()"
   ]
  }
 ],
 "metadata": {
  "kernelspec": {
   "display_name": "Python 3 (ipykernel)",
   "language": "python",
   "name": "python3"
  },
  "language_info": {
   "codemirror_mode": {
    "name": "ipython",
    "version": 3
   },
   "file_extension": ".py",
   "mimetype": "text/x-python",
   "name": "python",
   "nbconvert_exporter": "python",
   "pygments_lexer": "ipython3",
   "version": "3.10.12"
  }
 },
 "nbformat": 4,
 "nbformat_minor": 5
}
